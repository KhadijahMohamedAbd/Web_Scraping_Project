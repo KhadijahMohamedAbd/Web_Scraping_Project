{
 "cells": [
  {
   "cell_type": "code",
   "execution_count": 1,
   "id": "7dece644",
   "metadata": {},
   "outputs": [],
   "source": [
    "import requests\n",
    "import lxml\n",
    "from bs4 import BeautifulSoup\n",
    "import pandas as pd"
   ]
  },
  {
   "cell_type": "markdown",
   "id": "f1b53069",
   "metadata": {},
   "source": [
    "# Web Scraping from a single page"
   ]
  },
  {
   "cell_type": "markdown",
   "id": "73e239cf",
   "metadata": {},
   "source": [
    "website='https://www.coursera.org/courses?query=python'"
   ]
  },
  {
   "cell_type": "code",
   "execution_count": 3,
   "id": "32dbb42f",
   "metadata": {},
   "outputs": [],
   "source": [
    "response=requests.get(website)"
   ]
  },
  {
   "cell_type": "code",
   "execution_count": 4,
   "id": "7172b7d9",
   "metadata": {},
   "outputs": [],
   "source": [
    "soup=BeautifulSoup(response.content,'html.parser')"
   ]
  },
  {
   "cell_type": "code",
   "execution_count": 5,
   "id": "d4c4b835",
   "metadata": {},
   "outputs": [],
   "source": [
    "results=soup.find_all('div',{'class':\"card-content\"})"
   ]
  },
  {
   "cell_type": "code",
   "execution_count": 6,
   "id": "87e2f5a3",
   "metadata": {},
   "outputs": [
    {
     "data": {
      "text/plain": [
       "20"
      ]
     },
     "execution_count": 6,
     "metadata": {},
     "output_type": "execute_result"
    }
   ],
   "source": [
    "len(results)"
   ]
  },
  {
   "cell_type": "markdown",
   "id": "619ddd8c",
   "metadata": {},
   "source": [
    "### Finding Data Needed"
   ]
  },
  {
   "cell_type": "code",
   "execution_count": 7,
   "id": "c1f2044f",
   "metadata": {},
   "outputs": [
    {
     "data": {
      "text/plain": [
       "'Python for Everybody'"
      ]
     },
     "execution_count": 7,
     "metadata": {},
     "output_type": "execute_result"
    }
   ],
   "source": [
    "results[0].find('h2').get_text()"
   ]
  },
  {
   "cell_type": "code",
   "execution_count": 8,
   "id": "d5d3454c",
   "metadata": {},
   "outputs": [
    {
     "data": {
      "text/plain": [
       "'University of Michigan'"
      ]
     },
     "execution_count": 8,
     "metadata": {},
     "output_type": "execute_result"
    }
   ],
   "source": [
    "results[0].find('span').get_text()"
   ]
  },
  {
   "cell_type": "code",
   "execution_count": 9,
   "id": "417160fa",
   "metadata": {},
   "outputs": [
    {
     "data": {
      "text/plain": [
       "'(245,693)'"
      ]
     },
     "execution_count": 9,
     "metadata": {},
     "output_type": "execute_result"
    }
   ],
   "source": [
    "results[0].find('span',{'class':'ratings-count'}).get_text()"
   ]
  },
  {
   "cell_type": "code",
   "execution_count": 10,
   "id": "ab396e32",
   "metadata": {},
   "outputs": [
    {
     "data": {
      "text/plain": [
       "'4.8'"
      ]
     },
     "execution_count": 10,
     "metadata": {},
     "output_type": "execute_result"
    }
   ],
   "source": [
    "results[0].find('span',{'class':'ratings-text'}).get_text()"
   ]
  },
  {
   "cell_type": "code",
   "execution_count": 11,
   "id": "755b508b",
   "metadata": {},
   "outputs": [
    {
     "data": {
      "text/plain": [
       "'2.7m'"
      ]
     },
     "execution_count": 11,
     "metadata": {},
     "output_type": "execute_result"
    }
   ],
   "source": [
    "results[0].find('span',{'class':'enrollment-number'}).get_text()"
   ]
  },
  {
   "cell_type": "markdown",
   "id": "6941060e",
   "metadata": {},
   "source": [
    "### Creating empty Lists for Data"
   ]
  },
  {
   "cell_type": "code",
   "execution_count": 12,
   "id": "31b50b2e",
   "metadata": {},
   "outputs": [],
   "source": [
    "course=[]\n",
    "university=[]\n",
    "enrollments=[]\n",
    "ratings=[]\n",
    "overall_students=[]"
   ]
  },
  {
   "cell_type": "markdown",
   "id": "981f71e5",
   "metadata": {},
   "source": [
    "### Getting Data Rquired"
   ]
  },
  {
   "cell_type": "code",
   "execution_count": 13,
   "id": "c653fda8",
   "metadata": {},
   "outputs": [],
   "source": [
    "for result in results:\n",
    "    try:\n",
    "        course.append(result.find('h2').get_text())\n",
    "    except:\n",
    "        course.append('n/a')\n",
    "    try:\n",
    "        university.append(result.find('span').get_text())\n",
    "    except:\n",
    "        university.append('n/a')\n",
    "    try:\n",
    "        enrollments.append(result.find('span',{'class':'ratings-count'}).get_text())\n",
    "    except:\n",
    "        enrollments.append('n/a')\n",
    "    try:\n",
    "        ratings.append(result.find('span',{'class':'ratings-text'}).get_text())\n",
    "    except:\n",
    "        ratings.append('n/a')\n",
    "    try:\n",
    "        overall_students.append(result.find('span',{'class':'enrollment-number'}).get_text())\n",
    "    except:\n",
    "        overall_students.append('n/a')"
   ]
  },
  {
   "cell_type": "markdown",
   "id": "83de8843",
   "metadata": {},
   "source": [
    "### Getting Data into Data Frame"
   ]
  },
  {
   "cell_type": "code",
   "execution_count": 15,
   "id": "f0a442e4",
   "metadata": {},
   "outputs": [],
   "source": [
    "courses_catalogue=pd.DataFrame({'course':course,\n",
    "'university':university,\n",
    "'enrollments':enrollments,\n",
    "'ratings':ratings,'overall_students':overall_students})"
   ]
  },
  {
   "cell_type": "code",
   "execution_count": 16,
   "id": "435a4487",
   "metadata": {},
   "outputs": [
    {
     "data": {
      "text/html": [
       "<div>\n",
       "<style scoped>\n",
       "    .dataframe tbody tr th:only-of-type {\n",
       "        vertical-align: middle;\n",
       "    }\n",
       "\n",
       "    .dataframe tbody tr th {\n",
       "        vertical-align: top;\n",
       "    }\n",
       "\n",
       "    .dataframe thead th {\n",
       "        text-align: right;\n",
       "    }\n",
       "</style>\n",
       "<table border=\"1\" class=\"dataframe\">\n",
       "  <thead>\n",
       "    <tr style=\"text-align: right;\">\n",
       "      <th></th>\n",
       "      <th>course</th>\n",
       "      <th>university</th>\n",
       "      <th>enrollments</th>\n",
       "      <th>ratings</th>\n",
       "      <th>overall_students</th>\n",
       "    </tr>\n",
       "  </thead>\n",
       "  <tbody>\n",
       "    <tr>\n",
       "      <th>0</th>\n",
       "      <td>Python for Everybody</td>\n",
       "      <td>University of Michigan</td>\n",
       "      <td>(245,693)</td>\n",
       "      <td>4.8</td>\n",
       "      <td>2.7m</td>\n",
       "    </tr>\n",
       "    <tr>\n",
       "      <th>1</th>\n",
       "      <td>Google IT Automation with Python</td>\n",
       "      <td>Google</td>\n",
       "      <td>(28,538)</td>\n",
       "      <td>4.7</td>\n",
       "      <td>610k</td>\n",
       "    </tr>\n",
       "    <tr>\n",
       "      <th>2</th>\n",
       "      <td>Python 3 Programming</td>\n",
       "      <td>University of Michigan</td>\n",
       "      <td>(18,373)</td>\n",
       "      <td>4.7</td>\n",
       "      <td>350k</td>\n",
       "    </tr>\n",
       "    <tr>\n",
       "      <th>3</th>\n",
       "      <td>Crash Course on Python</td>\n",
       "      <td>Google</td>\n",
       "      <td>(23,158)</td>\n",
       "      <td>4.8</td>\n",
       "      <td>530k</td>\n",
       "    </tr>\n",
       "    <tr>\n",
       "      <th>4</th>\n",
       "      <td>Data Science Fundamentals with Python and SQL</td>\n",
       "      <td>IBM</td>\n",
       "      <td>(44,038)</td>\n",
       "      <td>4.6</td>\n",
       "      <td>580k</td>\n",
       "    </tr>\n",
       "    <tr>\n",
       "      <th>5</th>\n",
       "      <td>Applied Data Science with Python</td>\n",
       "      <td>University of Michigan</td>\n",
       "      <td>(31,473)</td>\n",
       "      <td>4.5</td>\n",
       "      <td>800k</td>\n",
       "    </tr>\n",
       "    <tr>\n",
       "      <th>6</th>\n",
       "      <td>IBM Data Science</td>\n",
       "      <td>IBM</td>\n",
       "      <td>(88,611)</td>\n",
       "      <td>4.6</td>\n",
       "      <td>1.1m</td>\n",
       "    </tr>\n",
       "    <tr>\n",
       "      <th>7</th>\n",
       "      <td>Programming for Everybody (Getting Started wit...</td>\n",
       "      <td>University of Michigan</td>\n",
       "      <td>(206,758)</td>\n",
       "      <td>4.8</td>\n",
       "      <td>2.5m</td>\n",
       "    </tr>\n",
       "    <tr>\n",
       "      <th>8</th>\n",
       "      <td>Python for Data Science, AI &amp; Development</td>\n",
       "      <td>IBM</td>\n",
       "      <td>(25,459)</td>\n",
       "      <td>4.6</td>\n",
       "      <td>390k</td>\n",
       "    </tr>\n",
       "    <tr>\n",
       "      <th>9</th>\n",
       "      <td>Introduction to Programming with Python and Java</td>\n",
       "      <td>University of Pennsylvania</td>\n",
       "      <td>(687)</td>\n",
       "      <td>4.4</td>\n",
       "      <td>38k</td>\n",
       "    </tr>\n",
       "    <tr>\n",
       "      <th>10</th>\n",
       "      <td>Bachelor of Science in Computer Science</td>\n",
       "      <td>University of London</td>\n",
       "      <td>n/a</td>\n",
       "      <td>n/a</td>\n",
       "      <td>n/a</td>\n",
       "    </tr>\n",
       "    <tr>\n",
       "      <th>11</th>\n",
       "      <td>Python Basics</td>\n",
       "      <td>University of Michigan</td>\n",
       "      <td>(14,848)</td>\n",
       "      <td>4.8</td>\n",
       "      <td>310k</td>\n",
       "    </tr>\n",
       "    <tr>\n",
       "      <th>12</th>\n",
       "      <td>IBM Data Analyst</td>\n",
       "      <td>IBM</td>\n",
       "      <td>(46,477)</td>\n",
       "      <td>4.6</td>\n",
       "      <td>730k</td>\n",
       "    </tr>\n",
       "    <tr>\n",
       "      <th>13</th>\n",
       "      <td>IBM DevOps and Software Engineering</td>\n",
       "      <td>IBM</td>\n",
       "      <td>(28,095)</td>\n",
       "      <td>4.6</td>\n",
       "      <td>480k</td>\n",
       "    </tr>\n",
       "    <tr>\n",
       "      <th>14</th>\n",
       "      <td>Statistics with Python</td>\n",
       "      <td>University of Michigan</td>\n",
       "      <td>(2,706)</td>\n",
       "      <td>4.6</td>\n",
       "      <td>110k</td>\n",
       "    </tr>\n",
       "    <tr>\n",
       "      <th>15</th>\n",
       "      <td>Data Science Foundations: Data Structures and ...</td>\n",
       "      <td>University of Colorado Boulder</td>\n",
       "      <td>(123)</td>\n",
       "      <td>4.6</td>\n",
       "      <td>13k</td>\n",
       "    </tr>\n",
       "    <tr>\n",
       "      <th>16</th>\n",
       "      <td>Django for Everybody</td>\n",
       "      <td>University of Michigan</td>\n",
       "      <td>(1,834)</td>\n",
       "      <td>4.7</td>\n",
       "      <td>74k</td>\n",
       "    </tr>\n",
       "    <tr>\n",
       "      <th>17</th>\n",
       "      <td>Python for Cybersecurity</td>\n",
       "      <td>Infosec</td>\n",
       "      <td>(139)</td>\n",
       "      <td>4.4</td>\n",
       "      <td>6.9k</td>\n",
       "    </tr>\n",
       "    <tr>\n",
       "      <th>18</th>\n",
       "      <td>Introduction to Scripting in Python</td>\n",
       "      <td>Rice University</td>\n",
       "      <td>(3,789)</td>\n",
       "      <td>4.7</td>\n",
       "      <td>110k</td>\n",
       "    </tr>\n",
       "    <tr>\n",
       "      <th>19</th>\n",
       "      <td>Introduction to Python Programming</td>\n",
       "      <td>University of Pennsylvania</td>\n",
       "      <td>(474)</td>\n",
       "      <td>4.4</td>\n",
       "      <td>25k</td>\n",
       "    </tr>\n",
       "  </tbody>\n",
       "</table>\n",
       "</div>"
      ],
      "text/plain": [
       "                                               course  \\\n",
       "0                                Python for Everybody   \n",
       "1                    Google IT Automation with Python   \n",
       "2                                Python 3 Programming   \n",
       "3                              Crash Course on Python   \n",
       "4       Data Science Fundamentals with Python and SQL   \n",
       "5                    Applied Data Science with Python   \n",
       "6                                    IBM Data Science   \n",
       "7   Programming for Everybody (Getting Started wit...   \n",
       "8           Python for Data Science, AI & Development   \n",
       "9    Introduction to Programming with Python and Java   \n",
       "10            Bachelor of Science in Computer Science   \n",
       "11                                      Python Basics   \n",
       "12                                   IBM Data Analyst   \n",
       "13                IBM DevOps and Software Engineering   \n",
       "14                             Statistics with Python   \n",
       "15  Data Science Foundations: Data Structures and ...   \n",
       "16                               Django for Everybody   \n",
       "17                           Python for Cybersecurity   \n",
       "18                Introduction to Scripting in Python   \n",
       "19                 Introduction to Python Programming   \n",
       "\n",
       "                        university enrollments ratings overall_students  \n",
       "0           University of Michigan   (245,693)     4.8             2.7m  \n",
       "1                           Google    (28,538)     4.7             610k  \n",
       "2           University of Michigan    (18,373)     4.7             350k  \n",
       "3                           Google    (23,158)     4.8             530k  \n",
       "4                              IBM    (44,038)     4.6             580k  \n",
       "5           University of Michigan    (31,473)     4.5             800k  \n",
       "6                              IBM    (88,611)     4.6             1.1m  \n",
       "7           University of Michigan   (206,758)     4.8             2.5m  \n",
       "8                              IBM    (25,459)     4.6             390k  \n",
       "9       University of Pennsylvania       (687)     4.4              38k  \n",
       "10            University of London         n/a     n/a              n/a  \n",
       "11          University of Michigan    (14,848)     4.8             310k  \n",
       "12                             IBM    (46,477)     4.6             730k  \n",
       "13                             IBM    (28,095)     4.6             480k  \n",
       "14          University of Michigan     (2,706)     4.6             110k  \n",
       "15  University of Colorado Boulder       (123)     4.6              13k  \n",
       "16          University of Michigan     (1,834)     4.7              74k  \n",
       "17                         Infosec       (139)     4.4             6.9k  \n",
       "18                 Rice University     (3,789)     4.7             110k  \n",
       "19      University of Pennsylvania       (474)     4.4              25k  "
      ]
     },
     "execution_count": 16,
     "metadata": {},
     "output_type": "execute_result"
    }
   ],
   "source": [
    "courses_catalogue"
   ]
  },
  {
   "cell_type": "markdown",
   "id": "ad62842e",
   "metadata": {},
   "source": [
    "### Looping through multipe pages"
   ]
  },
  {
   "cell_type": "code",
   "execution_count": 22,
   "id": "8c70c479",
   "metadata": {},
   "outputs": [],
   "source": [
    "course=[]\n",
    "university=[]\n",
    "enrollments=[]\n",
    "ratings=[]\n",
    "overall_students=[]\n",
    "\n",
    "for i in range(1,46):\n",
    "    website='https://www.coursera.org/courses?query=python&page=' + str(i) + '&index=prod_all_launched_products_term_optimization'\n",
    "    response=requests.get(website)\n",
    "    soup=BeautifulSoup(response.content,'html.parser')\n",
    "    results=soup.find_all('div',{'class':\"card-content\"})\n",
    "    \n",
    "    for result in results:\n",
    "        try:\n",
    "            course.append(result.find('h2').get_text())\n",
    "        except:\n",
    "            course.append('n/a')\n",
    "        try:\n",
    "            university.append(result.find('span').get_text())\n",
    "        except:\n",
    "            university.append('n/a')\n",
    "        try:\n",
    "            enrollments.append(result.find('span',{'class':'ratings-count'}).get_text())\n",
    "        except:\n",
    "            enrollments.append('n/a')\n",
    "        try:\n",
    "            ratings.append(result.find('span',{'class':'ratings-text'}).get_text())\n",
    "        except:\n",
    "            ratings.append('n/a')\n",
    "        try:\n",
    "            overall_students.append(result.find('span',{'class':'enrollment-number'}).get_text())\n",
    "        except:\n",
    "            overall_students.append('n/a')\n"
   ]
  },
  {
   "cell_type": "code",
   "execution_count": 23,
   "id": "149ac33a",
   "metadata": {},
   "outputs": [],
   "source": [
    "courses_catalogue=pd.DataFrame({'course':course,\n",
    "'university':university,\n",
    "'enrollments':enrollments,\n",
    "'ratings':ratings,'overall_students':overall_students})"
   ]
  },
  {
   "cell_type": "code",
   "execution_count": 24,
   "id": "aed39fdf",
   "metadata": {
    "scrolled": true
   },
   "outputs": [
    {
     "data": {
      "text/html": [
       "<div>\n",
       "<style scoped>\n",
       "    .dataframe tbody tr th:only-of-type {\n",
       "        vertical-align: middle;\n",
       "    }\n",
       "\n",
       "    .dataframe tbody tr th {\n",
       "        vertical-align: top;\n",
       "    }\n",
       "\n",
       "    .dataframe thead th {\n",
       "        text-align: right;\n",
       "    }\n",
       "</style>\n",
       "<table border=\"1\" class=\"dataframe\">\n",
       "  <thead>\n",
       "    <tr style=\"text-align: right;\">\n",
       "      <th></th>\n",
       "      <th>course</th>\n",
       "      <th>university</th>\n",
       "      <th>enrollments</th>\n",
       "      <th>ratings</th>\n",
       "      <th>overall_students</th>\n",
       "    </tr>\n",
       "  </thead>\n",
       "  <tbody>\n",
       "    <tr>\n",
       "      <th>0</th>\n",
       "      <td>Python for Everybody</td>\n",
       "      <td>University of Michigan</td>\n",
       "      <td>(245,693)</td>\n",
       "      <td>4.8</td>\n",
       "      <td>2.7m</td>\n",
       "    </tr>\n",
       "    <tr>\n",
       "      <th>1</th>\n",
       "      <td>Google IT Automation with Python</td>\n",
       "      <td>Google</td>\n",
       "      <td>(28,538)</td>\n",
       "      <td>4.7</td>\n",
       "      <td>610k</td>\n",
       "    </tr>\n",
       "    <tr>\n",
       "      <th>2</th>\n",
       "      <td>Python 3 Programming</td>\n",
       "      <td>University of Michigan</td>\n",
       "      <td>(18,373)</td>\n",
       "      <td>4.7</td>\n",
       "      <td>350k</td>\n",
       "    </tr>\n",
       "    <tr>\n",
       "      <th>3</th>\n",
       "      <td>Crash Course on Python</td>\n",
       "      <td>Google</td>\n",
       "      <td>(23,158)</td>\n",
       "      <td>4.8</td>\n",
       "      <td>530k</td>\n",
       "    </tr>\n",
       "    <tr>\n",
       "      <th>4</th>\n",
       "      <td>Data Science Fundamentals with Python and SQL</td>\n",
       "      <td>IBM</td>\n",
       "      <td>(44,038)</td>\n",
       "      <td>4.6</td>\n",
       "      <td>580k</td>\n",
       "    </tr>\n",
       "    <tr>\n",
       "      <th>...</th>\n",
       "      <td>...</td>\n",
       "      <td>...</td>\n",
       "      <td>...</td>\n",
       "      <td>...</td>\n",
       "      <td>...</td>\n",
       "    </tr>\n",
       "    <tr>\n",
       "      <th>876</th>\n",
       "      <td>Getting Started with Tensorflow.js</td>\n",
       "      <td>Coursera Project Network</td>\n",
       "      <td>n/a</td>\n",
       "      <td>n/a</td>\n",
       "      <td>n/a</td>\n",
       "    </tr>\n",
       "    <tr>\n",
       "      <th>877</th>\n",
       "      <td>تعرَف على هياكل البيانات في بايثون من خلال الت...</td>\n",
       "      <td>Coursera Project Network</td>\n",
       "      <td>n/a</td>\n",
       "      <td>n/a</td>\n",
       "      <td>n/a</td>\n",
       "    </tr>\n",
       "    <tr>\n",
       "      <th>878</th>\n",
       "      <td>أساسيات تحليل البيانات باستخدام بايثون وباندا</td>\n",
       "      <td>Coursera Project Network</td>\n",
       "      <td>n/a</td>\n",
       "      <td>n/a</td>\n",
       "      <td>n/a</td>\n",
       "    </tr>\n",
       "    <tr>\n",
       "      <th>879</th>\n",
       "      <td>Master of Science in Management</td>\n",
       "      <td>University of Illinois at Urbana-Champaign</td>\n",
       "      <td>n/a</td>\n",
       "      <td>n/a</td>\n",
       "      <td>n/a</td>\n",
       "    </tr>\n",
       "    <tr>\n",
       "      <th>880</th>\n",
       "      <td>Master of Science in Accounting</td>\n",
       "      <td>University of Illinois at Urbana-Champaign</td>\n",
       "      <td>n/a</td>\n",
       "      <td>n/a</td>\n",
       "      <td>n/a</td>\n",
       "    </tr>\n",
       "  </tbody>\n",
       "</table>\n",
       "<p>881 rows × 5 columns</p>\n",
       "</div>"
      ],
      "text/plain": [
       "                                                course  \\\n",
       "0                                 Python for Everybody   \n",
       "1                     Google IT Automation with Python   \n",
       "2                                 Python 3 Programming   \n",
       "3                               Crash Course on Python   \n",
       "4        Data Science Fundamentals with Python and SQL   \n",
       "..                                                 ...   \n",
       "876                 Getting Started with Tensorflow.js   \n",
       "877  تعرَف على هياكل البيانات في بايثون من خلال الت...   \n",
       "878      أساسيات تحليل البيانات باستخدام بايثون وباندا   \n",
       "879                    Master of Science in Management   \n",
       "880                    Master of Science in Accounting   \n",
       "\n",
       "                                     university enrollments ratings  \\\n",
       "0                        University of Michigan   (245,693)     4.8   \n",
       "1                                        Google    (28,538)     4.7   \n",
       "2                        University of Michigan    (18,373)     4.7   \n",
       "3                                        Google    (23,158)     4.8   \n",
       "4                                           IBM    (44,038)     4.6   \n",
       "..                                          ...         ...     ...   \n",
       "876                    Coursera Project Network         n/a     n/a   \n",
       "877                    Coursera Project Network         n/a     n/a   \n",
       "878                    Coursera Project Network         n/a     n/a   \n",
       "879  University of Illinois at Urbana-Champaign         n/a     n/a   \n",
       "880  University of Illinois at Urbana-Champaign         n/a     n/a   \n",
       "\n",
       "    overall_students  \n",
       "0               2.7m  \n",
       "1               610k  \n",
       "2               350k  \n",
       "3               530k  \n",
       "4               580k  \n",
       "..               ...  \n",
       "876              n/a  \n",
       "877              n/a  \n",
       "878              n/a  \n",
       "879              n/a  \n",
       "880              n/a  \n",
       "\n",
       "[881 rows x 5 columns]"
      ]
     },
     "execution_count": 24,
     "metadata": {},
     "output_type": "execute_result"
    }
   ],
   "source": [
    "courses_catalogue"
   ]
  },
  {
   "cell_type": "markdown",
   "id": "57045790",
   "metadata": {},
   "source": [
    "### Saving To Excel"
   ]
  },
  {
   "cell_type": "code",
   "execution_count": 25,
   "id": "1ef92f81",
   "metadata": {},
   "outputs": [],
   "source": [
    "courses_catalogue.to_excel('Courses_Catalogue.xlsx', index=False)"
   ]
  },
  {
   "cell_type": "code",
   "execution_count": null,
   "id": "6d5a44fe",
   "metadata": {},
   "outputs": [],
   "source": []
  }
 ],
 "metadata": {
  "kernelspec": {
   "display_name": "Python 3 (ipykernel)",
   "language": "python",
   "name": "python3"
  },
  "language_info": {
   "codemirror_mode": {
    "name": "ipython",
    "version": 3
   },
   "file_extension": ".py",
   "mimetype": "text/x-python",
   "name": "python",
   "nbconvert_exporter": "python",
   "pygments_lexer": "ipython3",
   "version": "3.9.7"
  }
 },
 "nbformat": 4,
 "nbformat_minor": 5
}
